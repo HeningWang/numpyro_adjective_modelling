{
  "cells": [
    {
      "cell_type": "markdown",
      "metadata": {
        "id": "view-in-github",
        "colab_type": "text"
      },
      "source": [
        "<a href=\"https://colab.research.google.com/github/HeningWang/numpyro_adjective_modelling/blob/main/13_gb_beta_logit_sample.ipynb\" target=\"_parent\"><img src=\"https://colab.research.google.com/assets/colab-badge.svg\" alt=\"Open In Colab\"/></a>"
      ]
    },
    {
      "cell_type": "markdown",
      "metadata": {
        "id": "SerJv4ReACJE"
      },
      "source": [
        "Import modules and dependencies\n"
      ]
    },
    {
      "cell_type": "code",
      "execution_count": 1,
      "metadata": {
        "id": "er5zrD9J_0zX",
        "colab": {
          "base_uri": "https://localhost:8080/"
        },
        "outputId": "1f812e5e-6b4e-4153-8993-d2ad728cc92b"
      },
      "outputs": [
        {
          "output_type": "stream",
          "name": "stdout",
          "text": [
            "  Preparing metadata (setup.py) ... \u001b[?25l\u001b[?25hdone\n",
            "  Building wheel for numpyro (setup.py) ... \u001b[?25l\u001b[?25hdone\n",
            "Cloning into 'numpyro_adjective_modelling'...\n",
            "remote: Enumerating objects: 189, done.\u001b[K\n",
            "remote: Counting objects: 100% (10/10), done.\u001b[K\n",
            "remote: Compressing objects: 100% (10/10), done.\u001b[K\n",
            "remote: Total 189 (delta 2), reused 0 (delta 0), pack-reused 179\u001b[K\n",
            "Receiving objects: 100% (189/189), 18.36 MiB | 10.37 MiB/s, done.\n",
            "Resolving deltas: 100% (78/78), done.\n",
            "Collecting siuba\n",
            "  Downloading siuba-0.4.2-py3-none-any.whl (207 kB)\n",
            "\u001b[2K     \u001b[90m━━━━━━━━━━━━━━━━━━━━━━━━━━━━━━━━━━━━━━━\u001b[0m \u001b[32m207.3/207.3 kB\u001b[0m \u001b[31m4.5 MB/s\u001b[0m eta \u001b[36m0:00:00\u001b[0m\n",
            "\u001b[?25hRequirement already satisfied: pandas>=0.24.0 in /usr/local/lib/python3.10/dist-packages (from siuba) (1.5.3)\n",
            "Requirement already satisfied: numpy>=1.12.0 in /usr/local/lib/python3.10/dist-packages (from siuba) (1.22.4)\n",
            "Requirement already satisfied: SQLAlchemy>=1.2.19 in /usr/local/lib/python3.10/dist-packages (from siuba) (2.0.19)\n",
            "Requirement already satisfied: PyYAML>=3.0.0 in /usr/local/lib/python3.10/dist-packages (from siuba) (6.0.1)\n",
            "Requirement already satisfied: python-dateutil>=2.8.1 in /usr/local/lib/python3.10/dist-packages (from pandas>=0.24.0->siuba) (2.8.2)\n",
            "Requirement already satisfied: pytz>=2020.1 in /usr/local/lib/python3.10/dist-packages (from pandas>=0.24.0->siuba) (2022.7.1)\n",
            "Requirement already satisfied: typing-extensions>=4.2.0 in /usr/local/lib/python3.10/dist-packages (from SQLAlchemy>=1.2.19->siuba) (4.7.1)\n",
            "Requirement already satisfied: greenlet!=0.4.17 in /usr/local/lib/python3.10/dist-packages (from SQLAlchemy>=1.2.19->siuba) (2.0.2)\n",
            "Requirement already satisfied: six>=1.5 in /usr/local/lib/python3.10/dist-packages (from python-dateutil>=2.8.1->pandas>=0.24.0->siuba) (1.16.0)\n",
            "Installing collected packages: siuba\n",
            "Successfully installed siuba-0.4.2\n"
          ]
        }
      ],
      "source": [
        "!pip install -q numpyro@git+https://github.com/pyro-ppl/numpyro\n",
        "!git clone https://github.com/HeningWang/numpyro_adjective_modelling.git\n",
        "!pip install siuba\n",
        "\n",
        "import os\n",
        "\n",
        "from IPython.display import set_matplotlib_formats\n",
        "import jax\n",
        "import jax.numpy as jnp\n",
        "from jax import random, vmap\n",
        "from jax.scipy.special import logsumexp\n",
        "import matplotlib.pyplot as plt\n",
        "import numpy as np\n",
        "import pandas as pd\n",
        "import seaborn as sns\n",
        "import math\n",
        "\n",
        "import numpyro\n",
        "from numpyro.diagnostics import hpdi\n",
        "import numpyro.distributions as dist\n",
        "from numpyro import handlers\n",
        "from numpyro.infer import MCMC, NUTS\n",
        "numpyro.set_platform(\"gpu\")\n",
        "\n",
        "plt.style.use(\"bmh\")\n",
        "if \"NUMPYRO_SPHINXBUILD\" in os.environ:\n",
        "    set_matplotlib_formats(\"svg\")\n",
        "\n",
        "assert numpyro.__version__.startswith(\"0.12.1\")"
      ]
    },
    {
      "cell_type": "code",
      "execution_count": 2,
      "metadata": {
        "id": "vfxwPIkV4sId",
        "colab": {
          "base_uri": "https://localhost:8080/"
        },
        "outputId": "9e6824c6-59f6-485f-b1c0-af589ab74b0d"
      },
      "outputs": [
        {
          "output_type": "stream",
          "name": "stdout",
          "text": [
            "0.4.13\n"
          ]
        },
        {
          "output_type": "execute_result",
          "data": {
            "text/plain": [
              "[gpu(id=0)]"
            ]
          },
          "metadata": {},
          "execution_count": 2
        }
      ],
      "source": [
        "print(jax.__version__)\n",
        "jax.devices()"
      ]
    },
    {
      "cell_type": "code",
      "execution_count": 3,
      "metadata": {
        "id": "omYXIzcFAoZn"
      },
      "outputs": [],
      "source": [
        "import sys\n",
        "sys.path.append('/content/numpyro_adjective_modelling')"
      ]
    },
    {
      "cell_type": "markdown",
      "metadata": {
        "id": "4oPM8Sl21PdP"
      },
      "source": [
        "Some helper functions:"
      ]
    },
    {
      "cell_type": "code",
      "execution_count": 4,
      "metadata": {
        "id": "MnzBB4sgZmah",
        "colab": {
          "base_uri": "https://localhost:8080/",
          "height": 425
        },
        "outputId": "75ca248b-b9bd-48dc-faab-25527f77d7c2"
      },
      "outputs": [
        {
          "output_type": "display_data",
          "data": {
            "text/plain": [
              "<Figure size 640x480 with 1 Axes>"
            ],
            "image/png": "[encoded data removed]"
          },
          "metadata": {}
        }
      ],
      "source": [
        "import numpy as np\n",
        "from scipy.stats import norm\n",
        "\n",
        "%matplotlib inline\n",
        "from scipy.special import betainc\n",
        "import numpy as np\n",
        "import math\n",
        "import matplotlib.pyplot as plt\n",
        "\n",
        "x = np.linspace(0., 1., 100)\n",
        "N = 10\n",
        "\n",
        "for i in range(N):\n",
        "    k = 0.5 * np.exp(i) / N\n",
        "    plt.plot(x, betainc(k, k, x))\n",
        "\n",
        "#plt.gca().set_xlim(0,1)\n",
        "#plt.gca().set_ylim(0,1)\n",
        "#plt.show()\n",
        "\n",
        "def link_betacdf(x, param=None):\n",
        "  N = 10\n",
        "  k = 0.5 * jnp.exp(param) / N\n",
        "  return jax.scipy.stats.beta.cdf(x,k,k)\n"
      ]
    },
    {
      "cell_type": "code",
      "execution_count": 5,
      "metadata": {
        "id": "H1FHnweD1OrB"
      },
      "outputs": [],
      "source": [
        "# Mutate the dataset to include the states of the objects\n",
        "# ... states are independent variables for models\n",
        "\n",
        "def extract_states(line):\n",
        "    states = []\n",
        "    for i in range(6):\n",
        "      color = 1 if line[10 + i] == \"blue\" else 0\n",
        "      form = 1 if line[16 + i] == \"circle\" else 0\n",
        "      new_obj = (line[4 + i], color, form)\n",
        "      states.append(new_obj)\n",
        "    return jnp.array(states)\n",
        "\n",
        "\n",
        "# Transform/rescale slider value from range 0 to 100 to 0 to 1\n",
        "# ... in order to match predicted probability from models\n",
        "\n",
        "def transformation_data(slider_value, link = None):\n",
        "    if link == \"identity\":\n",
        "      slider_value = jnp.clip(slider_value, 0, 100)\n",
        "      transformed_prob = slider_value / 100\n",
        "    elif link == \"logit\":\n",
        "        transformed_prob = 1 / (1 + math.exp(-slider_value))\n",
        "    return transformed_prob\n",
        "\n",
        "\n",
        "def compute_alpha_beta_concentration(mu, v):\n",
        "    alpha = mu * v\n",
        "    beta = (1 - mu) * v\n",
        "    return alpha, beta\n",
        "\n",
        "def Marginal(fn):\n",
        "    return memoize(lambda *args: HashingMarginal(Search(fn).run(*args)))\n",
        "\n",
        "def plot_dist(d, ax=None):\n",
        "    support = d.enumerate_support()\n",
        "    data = [d.log_prob(s).exp().item() for s in d.enumerate_support()]\n",
        "    names = list(map(str, support))\n",
        "\n",
        "    if ax is None:\n",
        "        ax = plt.subplot(111)\n",
        "\n",
        "    width = 0.3\n",
        "    bins = [x-width/2 for x in range(1, len(data) + 1)]\n",
        "    ax.bar(bins,data,width=width)\n",
        "    ax.set_xticks(list(range(1, len(data) + 1)))\n",
        "    ax.set_xticklabels(names, rotation=45, rotation_mode=\"anchor\", ha=\"right\")\n",
        "\n",
        "def get_results(posterior):\n",
        "    results = {}\n",
        "    support = posterior.enumerate_support()\n",
        "    data = [posterior.log_prob(s).exp().item() for s in posterior.enumerate_support()]\n",
        "    results[\"support\"] = support\n",
        "    results[\"probs\"] = data\n",
        "    return results\n",
        "\n",
        "def normalize(arr, axis=1):\n",
        "    \"\"\"\n",
        "    Normalize arr along axis\n",
        "    \"\"\"\n",
        "    return arr / arr.sum(axis, keepdims=True)"
      ]
    },
    {
      "cell_type": "code",
      "execution_count": 6,
      "metadata": {
        "id": "kJQMF7ayDjy6",
        "colab": {
          "base_uri": "https://localhost:8080/"
        },
        "outputId": "3027ad78-54e0-4e72-ddbb-03758682b6fe"
      },
      "outputs": [
        {
          "output_type": "stream",
          "name": "stdout",
          "text": [
            "count    3125.000000\n",
            "mean        0.700768\n",
            "std         0.381771\n",
            "min         0.000000\n",
            "25%         0.500000\n",
            "50%         0.910000\n",
            "75%         1.000000\n",
            "max         1.000000\n",
            "Name: prefer_first_1st, dtype: float64\n"
          ]
        }
      ],
      "source": [
        "# Import dataset\n",
        "dataset_url = \"/content/numpyro_adjective_modelling/dataset/dataset_slider.csv\"\n",
        "df = pd.read_csv(dataset_url)\n",
        "\n",
        "# subset data to only include combination dimension_color\n",
        "df = df[df['combination'] == 'dimension_color']\n",
        "df.reset_index(inplace=True, drop=True)\n",
        "\n",
        "# Mutate the dataset to include the states of the objects\n",
        "df_experiment = df.copy()\n",
        "df_experiment[\"states\"] = df_experiment.apply(lambda row: extract_states(row), axis=1)\n",
        "\n",
        "df_experiment.prefer_first_1st = jnp.clip(df_experiment.prefer_first_1st.to_numpy(), 0, 100)\n",
        "df_experiment.prefer_first_1st = df_experiment.prefer_first_1st/100\n",
        "print(df_experiment.prefer_first_1st.describe())\n"
      ]
    },
    {
      "cell_type": "code",
      "execution_count": 7,
      "metadata": {
        "id": "FCJWfPCrlOzl",
        "colab": {
          "base_uri": "https://localhost:8080/"
        },
        "outputId": "c1fa919d-78a0-4373-e68c-fa0e9456b642"
      },
      "outputs": [
        {
          "output_type": "stream",
          "name": "stdout",
          "text": [
            "(3125, 28)\n"
          ]
        }
      ],
      "source": [
        "from sklearn.model_selection import train_test_split\n",
        "# split the dataset into training and test sets\n",
        "#train, test = train_test_split(df_experiment, test_size=0.99, random_state=42)\n",
        "\n",
        "# use the whole dataset as training set\n",
        "train = df_experiment\n",
        "\n",
        "print(train.shape)\n",
        "\n",
        "states_train = jnp.stack([cell for cell in train.states])\n",
        "empirical_train = jnp.array(train.prefer_first_1st.to_numpy())"
      ]
    },
    {
      "cell_type": "code",
      "execution_count": 8,
      "metadata": {
        "id": "Eesz2uXtq-_9"
      },
      "outputs": [],
      "source": [
        "def get_threshold_kp(states, k=0.5):\n",
        "    min_val = jnp.min(states[:,0])\n",
        "    max_val = jnp.max(states[:,0])\n",
        "    threshold = max_val - k * (max_val - min_val)\n",
        "    return threshold\n",
        "\n",
        "def get_threshold_kp_weighted(states, states_prior, k=0.5):\n",
        "    sorted_indices = jnp.unique(jnp.argsort(states[:, 0] * states_prior), size = 6)\n",
        "    sorted_states = states[sorted_indices]\n",
        "    min_val = sorted_states[0, 0]\n",
        "    max_val = sorted_states[-1, 0]\n",
        "\n",
        "    weighted_threshold = max_val - k * (max_val - min_val)\n",
        "\n",
        "    return weighted_threshold\n",
        "\n",
        "def get_threshold_kp_sample(states, states_prior, k=0.5):\n",
        "    sample_indices = jnp.unique(dist.Categorical(probs=states_prior).sample(random.PRNGKey(0),(1,10)), size = 6)\n",
        "    sorted_states = states[sample_indices][:,0]\n",
        "    min_val = jnp.min(sorted_states)\n",
        "    max_val = jnp.max(sorted_states)\n",
        "\n",
        "    weighted_threshold = max_val - k * (max_val - min_val)\n",
        "\n",
        "    return weighted_threshold\n",
        "\n",
        "\n",
        "def adjMeaning(word, obj, current_state_prior, color_semvalue=0.98, form_semvalue=0.98, wf=0.6, k=0.5):\n",
        "    colors = [1]  # Specify the color values\n",
        "    sizes = [0]  # Specify the size values\n",
        "\n",
        "    if word == 1:\n",
        "        return numpyro.sample(\"color\", numpyro.distributions.Bernoulli(color_semvalue)) if word == obj[1] else numpyro.sample(\"color\", numpyro.distributions.Bernoulli(1 - color_semvalue))\n",
        "    elif word == 0:\n",
        "        threshold = get_threshold_kp(current_state_prior, k)\n",
        "        size = obj[0]\n",
        "        prob_big = 1 - dist.Normal(size - threshold, wf * jnp.sqrt(size ** 2 + threshold ** 2)).cdf(jnp.array([0.0]))\n",
        "        return numpyro.sample(\"size\", numpyro.distributions.Bernoulli(prob_big))\n"
      ]
    },
    {
      "cell_type": "code",
      "execution_count": 9,
      "metadata": {
        "id": "R9t3pqtIrBwE"
      },
      "outputs": [],
      "source": [
        "# Example usage for meaning function\n",
        "#states = jnp.array([[10., 1., 1.],\n",
        "#                   [3., 1., 1.],\n",
        "#                   [3., 1., 1.],\n",
        "#                   [3., 1., 0.],\n",
        "#                   [3., 1., 0.],\n",
        "#                   [1., 0., 1.]], dtype=jnp.float32)\n",
        "\n",
        "#word = 0 # Example word, 0 for size\n",
        "#obj = states[5]  # Example object from states\n",
        "\n",
        "# Example prior values\n",
        "#color_semvalue = 0.98\n",
        "#form_semvalue = 0.98\n",
        "#wf = 0.6\n",
        "#k = 0.5\n",
        "\n",
        "#print(get_threshold_kp(states))\n",
        "# Call the meaning function\n",
        "#with handlers.seed(rng_seed=27):\n",
        "# meaning = adjMeaning(word, obj, states, color_semvalue, form_semvalue, wf, k)\n",
        "\n",
        "#print(meaning)\n",
        "#print(obj)"
      ]
    },
    {
      "cell_type": "code",
      "execution_count": 10,
      "metadata": {
        "id": "kbsnwEJK3OS7"
      },
      "outputs": [],
      "source": [
        "# The length of states is 6\n",
        "\n",
        "def get_size_semval(size,threshold,wf):\n",
        "  return 1 - dist.Normal(size - threshold, wf * jnp.sqrt(size ** 2 + threshold ** 2)).cdf(0.0)\n",
        "\n",
        "def literal_listener_one_word(states, color_semvalue = 0.98, form_semvalue = 0.98, wf = 0.6, k = 0.5):\n",
        "  probs_blue = jnp.where((1. == states[:, 1]), color_semvalue, 1 - color_semvalue)\n",
        "  threshold = get_threshold_kp(states, k)\n",
        "  probs_big = jnp.array([1 - dist.Normal(obj[0] - threshold, wf * jnp.sqrt(obj[0] ** 2 + threshold ** 2)).cdf(0.0) for obj in states])\n",
        "  probs = normalize(jnp.array([probs_big,probs_blue]))\n",
        "  return probs\n",
        "\n",
        "def literal_listener_recursive(word_length, states, color_semvalue = 0.98, form_semvalue = 0.98, wf = 0.6, k = 0.5, weighted = True):\n",
        "  if word_length <= 1:\n",
        "    current_states_prior = jnp.ones((2,6))\n",
        "  else:\n",
        "    current_states_prior = literal_listener_recursive(word_length - 1, states, color_semvalue = 0.98, form_semvalue = 0.98, wf = 0.6, k = 0.5)\n",
        "    current_states_prior = jnp.flip(current_states_prior, axis = 0)\n",
        "  probs_blue = jnp.where((1. == states[:, 1]), color_semvalue, 1 - color_semvalue)\n",
        "  if weighted:\n",
        "    threshold = get_threshold_kp_sample(states, current_states_prior[0,:], k)\n",
        "  else:\n",
        "    threshold = get_threshold_kp(states, k)\n",
        "  probs_big = jax.vmap(get_size_semval, in_axes = (0, None, None))(states[:,0], threshold, wf)\n",
        "  probs = normalize(jnp.multiply(jnp.array([probs_big,probs_blue]), current_states_prior))\n",
        "  return probs\n",
        "\n",
        "\n",
        "def speaker_one_word(states, alpha = 1, bias = 0, color_semvalue = 0.98, form_semvalue = 0.98, wf = 0.6, k = 0.5):\n",
        "  listener = literal_listener_one_word(states, color_semvalue, form_semvalue,wf,k)\n",
        "  bias_weights = jnp.array([0, 1]) * bias\n",
        "  util_speaker = jnp.log(jnp.transpose(listener)) - bias_weights\n",
        "  softmax_result = jax.nn.softmax(alpha * util_speaker)\n",
        "  return softmax_result\n",
        "\n",
        "def speaker_recursive(word_length, states, alpha = 1, bias = 0, color_semvalue = 0.98, form_semvalue = 0.98, wf = 0.6, k = 0.5):\n",
        "  if word_length <= 1:\n",
        "    current_utt_prior = jnp.array([0, 1]) * bias\n",
        "  else:\n",
        "    current_utt_prior = speaker_recursive(word_length - 1, states, alpha, bias, color_semvalue, form_semvalue, wf, k)\n",
        "    current_utt_prior = jnp.flip(current_utt_prior, axis = 1)\n",
        "  listener = literal_listener_recursive(word_length, states, color_semvalue, form_semvalue, wf, k)\n",
        "  #print(listener)\n",
        "  util_speaker = jnp.log(jnp.transpose(listener)) - current_utt_prior\n",
        "  softmax_result = jax.nn.softmax(alpha * util_speaker)\n",
        "  return softmax_result\n",
        "\n",
        "def global_speaker(states, alpha = 1, bias = 0, color_semvalue = 0.98, form_semvalue = 0.98, wf = 0.6, k = 0.5):\n",
        "  listener = literal_listener_recursive(2,states, color_semvalue, form_semvalue,wf,k)\n",
        "  bias_weights = jnp.array([0, 1]) * bias\n",
        "  util_speaker = jnp.log(jnp.transpose(listener)) - bias_weights\n",
        "  softmax_result = jax.nn.softmax(alpha * util_speaker)\n",
        "  return softmax_result\n"
      ]
    },
    {
      "cell_type": "code",
      "execution_count": 11,
      "metadata": {
        "id": "ernd7aLWKOsX",
        "colab": {
          "base_uri": "https://localhost:8080/"
        },
        "outputId": "63963afc-7329-459d-d65d-3f47a2d0b1fe"
      },
      "outputs": [
        {
          "output_type": "stream",
          "name": "stdout",
          "text": [
            "[[ 5.  0.  0.]\n",
            " [10.  0.  1.]\n",
            " [ 1.  0.  1.]\n",
            " [ 1.  0.  0.]\n",
            " [ 5.  0.  1.]\n",
            " [ 5.  0.  1.]]\n",
            "erdc blurred\n",
            "0.01\n",
            "speaker two words global: [[0.50000006 0.5       ]\n",
            " [0.5        0.5       ]\n",
            " [0.5        0.5       ]\n",
            " [0.5        0.5       ]\n",
            " [0.50000006 0.5       ]\n",
            " [0.50000006 0.5       ]]\n",
            "________________________________________\n",
            "speaker two words incremental: [[0.5219833  0.47801667]\n",
            " [0.57983774 0.4201623 ]\n",
            " [0.35003054 0.64996946]\n",
            " [0.35003054 0.64996946]\n",
            " [0.5219833  0.47801667]\n",
            " [0.5219833  0.47801667]]\n",
            "________________________________________\n",
            "speaker two words incremental: [[0.47634175 0.52365834]\n",
            " [0.62912846 0.37087154]\n",
            " [0.41566595 0.5843341 ]\n",
            " [0.41566595 0.5843341 ]\n",
            " [0.47634175 0.52365834]\n",
            " [0.47634175 0.52365834]]\n"
          ]
        }
      ],
      "source": [
        "# 118 brdc sharp, target not the biggest\n",
        "# 12 brdc blurred\n",
        "\n",
        "# 119 erdc sharp\n",
        "# 15 erdc blurred\n",
        "\n",
        "index = 15\n",
        "states_manuell = jnp.array([[10., 1., 1.],\n",
        "                   [3., 1., 1.],\n",
        "                   [3., 1., 1.],\n",
        "                   [3., 1., 0.],\n",
        "                   [3., 1., 0.],\n",
        "                   [1., 0., 1.]], dtype=jnp.float32)\n",
        "\n",
        "#states_example = states_manuell\n",
        "states_example = df_experiment.iloc[index, df_experiment.columns.get_loc(\"states\")]\n",
        "condition = df_experiment.iloc[index, df_experiment.columns.get_loc(\"conditions\")]\n",
        "distribution = df_experiment.iloc[index, df_experiment.columns.get_loc(\"sharpness\")]\n",
        "preference = df_experiment.iloc[index, df_experiment.columns.get_loc(\"prefer_first_1st\")]\n",
        "print(states_example)\n",
        "print(condition + \" \" + distribution)\n",
        "print(preference)\n",
        "#print(f\"literal listener one word: {literal_listener_one_word(states_example)}\")\n",
        "#print(f\"literal listener two words: {literal_listener_recursive(2,states_example)}\")\n",
        "#print(f\"model_prediction: {model_speaker[0][0]}\")\n",
        "#print(f\"speaker one word: {speaker_one_word(states_example)}\")\n",
        "print(f\"speaker two words global: {global_speaker(states_example)}\")\n",
        "print(\"________________________________________\")\n",
        "print(f\"speaker two words incremental: {speaker_recursive(2,states_example)}\")\n",
        "print(\"________________________________________\")\n",
        "print(f\"speaker two words incremental: {speaker_recursive(2,states_example, k = 0.1)}\")"
      ]
    },
    {
      "cell_type": "code",
      "execution_count": 12,
      "metadata": {
        "id": "iNnki1LKofOX",
        "colab": {
          "base_uri": "https://localhost:8080/"
        },
        "outputId": "ef901300-fc3d-4a2a-d989-948e6bbf9e6a"
      },
      "outputs": [
        {
          "output_type": "stream",
          "name": "stdout",
          "text": [
            "kp:5.5\n",
            "kp weighted flat: 5.0\n",
            "kp weighted: 5.0\n",
            "kp sample: 5.5\n",
            "[0.16666667 0.16666667 0.16666667 0.16666667 0.16666667 0.16666667]\n"
          ]
        }
      ],
      "source": [
        "# index = 120, condition = zrdc sharp, there is a difference in threshold of 0.5\n",
        "# index = 15, erdc blurred, very different result\n",
        "print(f\"kp:{get_threshold_kp(states_example,0.5)}\")\n",
        "print(f\"kp weighted flat: {get_threshold_kp_weighted(states_example,jnp.ones((2,6)),0.5)}\")\n",
        "print(f\"kp weighted: {get_threshold_kp_weighted(states_example,literal_listener_one_word(states_example)[1,:],0.5)}\")\n",
        "print(f\"kp sample: {get_threshold_kp_sample(states_example,literal_listener_one_word(states_example)[1,:],0.5)}\")\n",
        "threshold = 6\n",
        "1 - dist.Normal(10. - threshold, 0.6 * jnp.sqrt(10. ** 2 + threshold ** 2)).cdf(-0.5)\n",
        "\n",
        "print(literal_listener_one_word(states_example)[1,:])\n",
        "# this is also a not normal case, because target has size of 9 instead of 10\n",
        "# also there is no difference on listener side"
      ]
    },
    {
      "cell_type": "code",
      "execution_count": 13,
      "metadata": {
        "id": "HVI7WipyHiOt",
        "colab": {
          "base_uri": "https://localhost:8080/",
          "height": 430
        },
        "outputId": "ff09b51a-e865-4970-d6c9-6182eae425be"
      },
      "outputs": [
        {
          "data": {
            "image/png": "[encoded data removed]",
            "text/plain": [
              "<Figure size 640x480 with 1 Axes>"
            ]
          },
          "metadata": {},
          "output_type": "display_data"
        }
      ],
      "source": [
        "#def scaled_logit(p, s):\n",
        "#    return s * -jnp.log((1 / p) - 1)\n",
        "\n",
        "#def compute_x0(s):\n",
        "#    return 1 / (jnp.exp(1 / (-2 * s)) + 1)\n",
        "\n",
        "#def x_trans(x, x_0):\n",
        "#    return x * (x_0 - (1 - x_0)) + (1 - x_0)\n",
        "\n",
        "#def link_logit(p, s):\n",
        "#    return scaled_logit(x_trans(p, compute_x0(s)), s) + 0.5\n",
        "\n",
        "def link_linear(x, param):\n",
        "  return param * x - (param / 2)\n",
        "\n",
        "def link_logit(p,s):\n",
        "  x0 = 1 / (jnp.exp(1 / (-2 * s)) + 1)\n",
        "  xtrans = p * (x0 - (1 - x0)) + (1 - x0)\n",
        "  return s * -jnp.log((1 / xtrans) - 1) + 0.5\n",
        "\n",
        "def link_logis(x, param = 1):\n",
        "    return 1 / (1 + jnp.exp(param * -(x - 0.5)))\n",
        "\n",
        "def link_identity(x, param = 1):\n",
        "    return x\n",
        "\n",
        "# Generate a sequence of values\n",
        "a = jnp.linspace(0.01, 1, 20)\n",
        "\n",
        "# Plot the function fin(x,1)\n",
        "x_values = jnp.linspace(0, 1, 1000)\n",
        "y_values = link_logit(x_values, 20)\n",
        "plt.plot(x_values, y_values, linewidth=5)\n",
        "# Plot the function fin(x,s) for each value of s in a\n",
        "for i, s in enumerate(a):\n",
        "    y_values = link_logit(x_values, s)\n",
        "    plt.plot(x_values, y_values, color=plt.cm.rainbow(i / len(a)))\n",
        "\n",
        "plt.xlim([0, 1])\n",
        "plt.ylim([-0.5, 1])\n",
        "plt.show()"
      ]
    },
    {
      "cell_type": "code",
      "source": [
        "id = df_experiment.id.to_numpy()"
      ],
      "metadata": {
        "id": "HmGx7mM6U3Cb"
      },
      "execution_count": 14,
      "outputs": []
    },
    {
      "cell_type": "code",
      "execution_count": 15,
      "metadata": {
        "id": "H86DExRXBG0A"
      },
      "outputs": [],
      "source": [
        "#vectorized_speaker = jax.vmap(speaker_recursive, in_axes=(None,0,None,None,None,None,None,None))\n",
        "#model_prob = vectorized_speaker(2,states_train, 1,1,0.5,0.5,0.5,0.5)\n",
        "#print(jnp.shape(model_prob))\n",
        "#print(jnp.shape(model_prob[:,0,0]))\n",
        "#slider_predict = jax.vmap(link_function, in_axes = (0,None))(model_prob[:,0,0],20)\n",
        "\n",
        "#slider_predict = jnp.clip(slider_predict, 1e-5, 1 - 1e-5)\n",
        "#print(jnp.shape(slider_predict))"
      ]
    },
    {
      "cell_type": "code",
      "execution_count": 16,
      "metadata": {
        "id": "prbxURKGDQyo"
      },
      "outputs": [],
      "source": [
        "# define the conditioned model for MCMC\n",
        "vectorized_speaker = jax.vmap(speaker_recursive, in_axes=(None,0,None,None,None,None,None,None))\n",
        "\n",
        "def model_gb_normal(states = None, data = None):\n",
        "  alpha = numpyro.sample(\"alpha\", dist.HalfNormal(5))\n",
        "  bias = numpyro.sample(\"bias\", dist.HalfNormal(5))\n",
        "  color_semvalue = numpyro.sample(\"color_semvalue\", dist.Uniform(0, 1))\n",
        "  form_semvalue = color_semvalue\n",
        "  wf = numpyro.sample(\"wf\", dist.Uniform(0,1))\n",
        "  k = numpyro.sample(\"k\", dist.Uniform(0, 1))\n",
        "  steepness = numpyro.sample(\"steepness\", dist.HalfNormal(2))\n",
        "  sigma = numpyro.sample(\"sigma\", dist.Uniform(0,0.1))\n",
        "\n",
        "  with numpyro.plate(\"data\", len(states)):\n",
        "    model_prob = jax.vmap(global_speaker, in_axes=(0,None,None,None,None,None,None))(states_train, alpha, bias, color_semvalue, form_semvalue, wf, k)\n",
        "    slider_predict = jax.vmap(link_logit, in_axes = (0,None))(model_prob[:,0,0], steepness)\n",
        "    slider_predict = jnp.clip(slider_predict, 1e-5, 1 - 1e-5)\n",
        "    if data is not None:\n",
        "      data = jnp.clip(data, 1e-5, 1 - 1e-5)\n",
        "    numpyro.sample(\"obs\", dist.TruncatedNormal(slider_predict, sigma, low = 1e-5, high = 1 - 1e-5,), obs=data)\n",
        "\n",
        "def model_gb_beta(states = None, data = None):\n",
        "  alpha = numpyro.sample(\"alpha\", dist.HalfNormal(5))\n",
        "  bias = numpyro.sample(\"bias\", dist.HalfNormal(5))\n",
        "  color_semvalue = numpyro.sample(\"color_semvalue\", dist.Uniform(0, 1))\n",
        "  form_semvalue = color_semvalue\n",
        "  wf = numpyro.sample(\"wf\", dist.Uniform(0,1))\n",
        "  k = numpyro.sample(\"k\", dist.Uniform(0, 1))\n",
        "  steepness = numpyro.sample(\"steepness\", dist.HalfNormal(2))\n",
        "  v = numpyro.sample(\"v\", dist.Uniform(0,2))\n",
        "\n",
        "  with numpyro.plate(\"data\", len(states)):\n",
        "    model_prob = jax.vmap(global_speaker, in_axes=(0,None,None,None,None,None,None))(states_train, alpha, bias, color_semvalue, form_semvalue, wf, k)\n",
        "    slider_predict = jax.vmap(link_logit, in_axes = (0,None))(model_prob[:,0,0], steepness)\n",
        "    slider_predict = jnp.clip(slider_predict, 1e-5, 1 - 1e-5)\n",
        "    if data is not None:\n",
        "      data = jnp.clip(data, 1e-5, 1 - 1e-5)\n",
        "    alpha, beta = compute_alpha_beta_concentration(slider_predict, v)\n",
        "    numpyro.sample(\"obs\", dist.Beta(alpha, beta), obs=data)\n",
        "\n",
        "def model_inc_utt_parallel_normal(states = None, data = None):\n",
        "    gamma = numpyro.sample(\"gamma\", dist.HalfNormal(5))\n",
        "    color_semvalue = numpyro.sample(\"color_semvalue\", dist.Uniform(0.5, 1))\n",
        "    form_semvalue = color_semvalue\n",
        "    k = numpyro.sample(\"k\", dist.Uniform(0, 1))\n",
        "    wf = numpyro.sample(\"wf\", dist.Uniform(0,1))\n",
        "    bias = numpyro.sample(\"bias\", dist.HalfNormal(5))\n",
        "    steepness = numpyro.sample(\"steepness\", dist.HalfNormal(0.5))\n",
        "    sigma = numpyro.sample(\"sigma\", dist.Uniform(0,0.1))\n",
        "\n",
        "    with numpyro.plate(\"data\",len(states)):\n",
        "      model_prob = vectorized_speaker(2, states_train, gamma, bias, color_semvalue, form_semvalue, wf, k)\n",
        "      slider_predict = jax.vmap(link_logit, in_axes = (0,None))(model_prob[:,0,0], steepness)\n",
        "      slider_predict = jnp.clip(slider_predict, 1e-5, 1 - 1e-5)\n",
        "      if data is not None:\n",
        "        data = jnp.clip(data, 1e-5, 1 - 1e-5)\n",
        "      numpyro.sample(\"obs\", dist.TruncatedNormal(slider_predict, sigma, low = 1e-5, high = 1 - 1e-5,), obs=data)\n",
        "\n",
        "\n",
        "\n",
        "def model_inc_utt_parallel_beta(states = None, data = None):\n",
        "    gamma = numpyro.sample(\"gamma\", dist.HalfNormal(5))\n",
        "    color_semvalue = numpyro.sample(\"color_semvalue\", dist.Uniform(0, 1))\n",
        "    k = numpyro.sample(\"k\", dist.Uniform(0, 1))\n",
        "    bias = numpyro.sample(\"bias\", dist.HalfNormal(5))\n",
        "    steepness = numpyro.sample(\"steepness\", dist.HalfNormal(5))\n",
        "    v = numpyro.sample(\"v\", dist.Uniform(0,2))\n",
        "\n",
        "    form_semvalue = color_semvalue\n",
        "    wf = numpyro.sample(\"wf\", dist.Uniform(0,1))\n",
        "\n",
        "    with numpyro.plate(\"data\",len(states)):\n",
        "      model_prob = vectorized_speaker(2, states_train, gamma, bias, color_semvalue, form_semvalue, wf, k)\n",
        "      slider_predict = jax.vmap(link_identity, in_axes = (0,None))(model_prob[:,0,0], steepness)\n",
        "      slider_predict = jnp.clip(slider_predict, 1e-5, 1 - 1e-5)\n",
        "      #slider_predict = jnp.clip(model_prob[:,0,0], 1e-5, 1 - 1e-5)\n",
        "      alpha, beta = compute_alpha_beta_concentration(slider_predict, v)\n",
        "      if data is not None:\n",
        "        data = jnp.clip(data, 1e-5, 1 - 1e-5)\n",
        "      numpyro.sample(\"obs\", dist.Beta(alpha, beta), obs=data)\n",
        "\n",
        "\n",
        "def model_inc_hierarchical_normal(id, states = None, data = None):\n",
        "    gamma = numpyro.sample(\"gamma\", dist.HalfNormal(5))\n",
        "    color_semvalue = numpyro.sample(\"color_semvalue\", dist.Uniform(0.5, 1))\n",
        "    form_semvalue = color_semvalue\n",
        "    k = numpyro.sample(\"k\", dist.Uniform(0, 1))\n",
        "    wf = numpyro.sample(\"wf\", dist.Uniform(0,1))\n",
        "    bias = numpyro.sample(\"bias\", dist.HalfNormal(5))\n",
        "    steepness = numpyro.sample(\"steepness\", dist.HalfNormal(0.5))\n",
        "    sigma = numpyro.sample(\"sigma\", dist.Uniform(0,0.1))\n",
        "\n",
        "    n_ids = len(np.unique(\"id\"))\n",
        "    mu = numpyro.sample(\"mu\", dist.Normal(0,1))\n",
        "    s = numpyro.sample(\"s\", dist.HalfNormal(0.25))\n",
        "    with numpyro.plate(\"plate_i\", n_ids):\n",
        "        intercept = numpyro.sample(\"intercept\", dist.Normal(mu, s))\n",
        "\n",
        "    with numpyro.plate(\"data\",len(states)):\n",
        "      model_prob = vectorized_speaker(2, states_train, gamma, bias, color_semvalue, form_semvalue, wf, k)\n",
        "      slider_predict = jax.vmap(link_logit, in_axes = (0,None))(model_prob[:,0,0], steepness)\n",
        "      slider_predict = intercept[id] + slider_predict\n",
        "      slider_predict = jnp.clip(slider_predict, 1e-5, 1 - 1e-5)\n",
        "      if data is not None:\n",
        "        data = jnp.clip(data, 1e-5, 1 - 1e-5)\n",
        "      numpyro.sample(\"obs\", dist.TruncatedNormal(slider_predict, sigma, low = 1e-5, high = 1 - 1e-5,), obs=data)\n"
      ]
    },
    {
      "cell_type": "code",
      "source": [
        "'''\n",
        "def render_model(data):\n",
        "    gamma = numpyro.sample(\"gamma\", dist.HalfNormal(5))\n",
        "    color_semvalue = numpyro.sample(\"color_semvalue\", dist.Uniform(0.5, 1))\n",
        "    form_semvalue = color_semvalue\n",
        "    k = numpyro.sample(\"k\", dist.Uniform(0, 1))\n",
        "    wf = numpyro.sample(\"wf\", dist.Uniform(0,1))\n",
        "    bias = numpyro.sample(\"bias\", dist.HalfNormal(5))\n",
        "\n",
        "    #RSA_predict = numpyro.deterministic(\"RSA_predict\", gamma + color_semvalue + form_semvalue + k +wf +bias)\n",
        "\n",
        "    steepness = numpyro.sample(\"steepness\", dist.HalfNormal(0.5))\n",
        "    v = numpyro.sample(\"sigma/v\", dist.Uniform(0,2))\n",
        "    with numpyro.plate(\"data\",len(data)):\n",
        "      listener = numpyro.deterministic(\"listener\", k + wf + color_semvalue)\n",
        "      speaker = numpyro.deterministic(\"speaker\", listener + gamma + bias)\n",
        "      slider_value = numpyro.deterministic(\"slider_value\", speaker + steepness)\n",
        "      numpyro.sample(\"obs\", dist.TruncatedNormal(slider_value, v, low = 1e-5, high = 1 - 1e-5,), obs=data)\n",
        "\n",
        "dummy_data = jnp.ones(10)\n",
        "numpyro.render_model(render_model, model_args=(dummy_data,), render_params=True, filename=\"/content/drive/MyDrive/model_specification.png\")\n",
        "'''"
      ],
      "metadata": {
        "colab": {
          "base_uri": "https://localhost:8080/",
          "height": 143
        },
        "id": "mb199VQ6-3Zf",
        "outputId": "7cb6ec1f-8523-4013-aa7a-5973f58badab"
      },
      "execution_count": 17,
      "outputs": [
        {
          "data": {
            "application/vnd.google.colaboratory.intrinsic+json": {
              "type": "string"
            },
            "text/plain": [
              "'\\ndef render_model(data):\\n    gamma = numpyro.sample(\"gamma\", dist.HalfNormal(5))\\n    color_semvalue = numpyro.sample(\"color_semvalue\", dist.Uniform(0.5, 1))\\n    form_semvalue = color_semvalue\\n    k = numpyro.sample(\"k\", dist.Uniform(0, 1))\\n    wf = numpyro.sample(\"wf\", dist.Uniform(0,1))\\n    bias = numpyro.sample(\"bias\", dist.HalfNormal(5))\\n\\n    #RSA_predict = numpyro.deterministic(\"RSA_predict\", gamma + color_semvalue + form_semvalue + k +wf +bias)\\n\\n    steepness = numpyro.sample(\"steepness\", dist.HalfNormal(0.5))\\n    v = numpyro.sample(\"sigma/v\", dist.Uniform(0,2))\\n    with numpyro.plate(\"data\",len(data)):\\n      listener = numpyro.deterministic(\"listener\", k + wf + color_semvalue)\\n      speaker = numpyro.deterministic(\"speaker\", listener + gamma + bias)\\n      slider_value = numpyro.deterministic(\"slider_value\", speaker + steepness)\\n      numpyro.sample(\"obs\", dist.TruncatedNormal(slider_value, v, low = 1e-5, high = 1 - 1e-5,), obs=data)\\n\\ndummy_data = jnp.ones(10)\\nnumpyro.render_model(render_model, model_args=(dummy_data,), render_params=True, filename=\"/content/drive/MyDrive/model_specification.png\")\\n'"
            ]
          },
          "execution_count": 17,
          "metadata": {},
          "output_type": "execute_result"
        }
      ]
    },
    {
      "cell_type": "code",
      "source": [],
      "metadata": {
        "id": "nzK8aWyW9b3D"
      },
      "execution_count": 17,
      "outputs": []
    },
    {
      "cell_type": "code",
      "source": [
        "from google.colab import drive\n",
        "drive.mount('/content/drive')"
      ],
      "metadata": {
        "colab": {
          "base_uri": "https://localhost:8080/"
        },
        "id": "4kR33YhmaRf-",
        "outputId": "2901a8c3-82c1-4faa-ab2a-be167a423471"
      },
      "execution_count": 19,
      "outputs": [
        {
          "output_type": "stream",
          "name": "stdout",
          "text": [
            "Mounted at /content/drive\n"
          ]
        }
      ]
    },
    {
      "cell_type": "code",
      "execution_count": 20,
      "metadata": {
        "colab": {
          "base_uri": "https://localhost:8080/"
        },
        "id": "-0J580lAKvIZ",
        "outputId": "10f81124-0e66-406e-ca61-5fee1971db4d"
      },
      "outputs": [
        {
          "output_type": "stream",
          "name": "stderr",
          "text": [
            "sample: 100%|██████████| 35000/35000 [22:30<00:00, 25.92it/s, 31 steps of size 9.30e-02. acc. prob=0.90]\n"
          ]
        },
        {
          "output_type": "stream",
          "name": "stdout",
          "text": [
            "\n",
            "                      mean       std    median      5.0%     95.0%     n_eff     r_hat\n",
            "           alpha      1.40      0.65      1.23      0.64      2.17   1097.66      1.00\n",
            "            bias      0.81      0.23      0.80      0.41      1.16   3635.18      1.00\n",
            "  color_semvalue      0.96      0.01      0.96      0.95      0.97   3623.43      1.00\n",
            "               k      0.55      0.16      0.57      0.29      0.83   5579.44      1.00\n",
            "       steepness      1.62      1.20      1.37      0.05      3.31   7955.10      1.00\n",
            "               v      0.37      0.01      0.37      0.36      0.39  11967.09      1.00\n",
            "              wf      0.86      0.09      0.87      0.74      1.00   4093.16      1.00\n",
            "\n",
            "Number of divergences: 102\n"
          ]
        }
      ],
      "source": [
        "# define the MCMC kernel and the number of samples\n",
        "rng_key = random.PRNGKey(11)\n",
        "rng_key, rng_key_ = random.split(rng_key)\n",
        "\n",
        "kernel = NUTS(model_gb_beta, dense_mass=True, max_tree_depth=15, target_accept_prob=0.95)\n",
        "mcmc_inc = MCMC(kernel, num_warmup=5000,num_samples=30000,num_chains=1)\n",
        "mcmc_inc.run(rng_key_, states_train, empirical_train)\n",
        "\n",
        "# print the summary of the posterior distribution\n",
        "mcmc_inc.print_summary()\n",
        "\n",
        "# Get the MCMC samples and convert to a DataFrame\n",
        "posterior_inc = mcmc_inc.get_samples()\n",
        "df_inc = pd.DataFrame(posterior_inc)\n",
        "\n",
        "# Save the DataFrame to a CSV file\n",
        "df_inc.to_csv('/content/drive/MyDrive/posterior_samples/13_gb_beta_logit_sample.csv', index=False)"
      ]
    },
    {
      "cell_type": "code",
      "execution_count": null,
      "metadata": {
        "id": "7oRZb7f5sdBh"
      },
      "outputs": [],
      "source": [
        "#df_inc.to_csv('/content/drive/MyDrive/hierarchical_inc_logit_sample_normal_1k.csv', index=False)"
      ]
    },
    {
      "cell_type": "code",
      "execution_count": null,
      "metadata": {
        "id": "6iviZKfv9Hb1"
      },
      "outputs": [],
      "source": [
        "from numpyro.infer import Predictive\n",
        "\n",
        "rng_key, rng_key_ = random.split(rng_key)\n",
        "predictive = Predictive(model_inc_utt_parallel_normal, posterior_inc)\n",
        "predictions = predictive(rng_key_, states = states_train)[\"obs\"]\n",
        "print(jnp.shape(predictions))"
      ]
    },
    {
      "cell_type": "code",
      "execution_count": null,
      "metadata": {
        "id": "DXbXvE9UQN6D"
      },
      "outputs": [],
      "source": [
        "df_pred = df_experiment.filter([\"id\",\"sharpness\",\"relevant_property\",\"states\", \"prefer_first_1st\"])\n",
        "df_pred[\"mean_predictions\"] = (jnp.mean(predictions, axis=0) - 0.5)\n",
        "df_pred[\"prefer_first_1st\"] = df_pred[\"prefer_first_1st\"] - 0.5\n",
        "df_pred[\"std_predictions\"] = jnp.std(predictions, axis=0)\n",
        "print(df_pred.head())\n",
        "\n",
        "print(df_pred.prefer_first_1st.describe())\n",
        "print(df_pred.mean_predictions.describe())"
      ]
    },
    {
      "cell_type": "code",
      "execution_count": null,
      "metadata": {
        "id": "4BE4szakgj98"
      },
      "outputs": [],
      "source": [
        "from plotnine import *\n",
        "from siuba import *"
      ]
    },
    {
      "cell_type": "code",
      "execution_count": null,
      "metadata": {
        "id": "4nIqv2rwlf38"
      },
      "outputs": [],
      "source": [
        "#aggregated_df_pred = df_pred  >> group_by(\"sharpness\", \"relevant_property\") >> summarize(mean_empirical = _.prefer_first_1st.mean(), std_empirical = _.prefer_first_1st.std(), mean_pred = _.mean_predictions.mean(), std_pred = _.mean_predictions.std(), MAP_pred = _.MAP_predictions.mean(), std_MAP_pred = _.MAP_predictions.std())\n",
        "aggregated_df_pred = df_pred  >> group_by(\"sharpness\", \"relevant_property\") >> summarize(mean_empirical = _.prefer_first_1st.mean(), std_empirical = _.prefer_first_1st.std(), mean_pred = _.mean_predictions.mean(), std_pred = _.mean_predictions.std())\n",
        "print(aggregated_df_pred)\n",
        "\n",
        "from scipy.stats import pearsonr\n",
        "from sklearn.metrics import r2_score, mean_squared_error\n",
        "# R2 score requires true values as first argument\n",
        "print(f\"R2 score between true and predicted data is: {r2_score(df_pred.prefer_first_1st,df_pred.mean_predictions)}\")\n",
        "print(f\"R2 score between aggregated true and predicted data is: {r2_score(aggregated_df_pred.mean_empirical,aggregated_df_pred.mean_pred)}\")\n",
        "print(f\"Correlation between true and predicted data is: {pearsonr(df_pred.prefer_first_1st,df_pred.mean_predictions)}\")\n",
        "print(f\"Correlation between aggregated true and predicted data is: {pearsonr(aggregated_df_pred.mean_empirical,aggregated_df_pred.mean_pred)}\")\n",
        "print(f\"MSE between true and predicted data is: {mean_squared_error(df_pred.prefer_first_1st,df_pred.mean_predictions)}\")"
      ]
    },
    {
      "cell_type": "code",
      "execution_count": null,
      "metadata": {
        "id": "r39dPzcsz9kU"
      },
      "outputs": [],
      "source": [
        "sns.catplot(x='sharpness', y='prefer_first_1st', hue='relevant_property', data=df_pred, kind='bar',\n",
        "            palette='viridis')"
      ]
    },
    {
      "cell_type": "code",
      "execution_count": null,
      "metadata": {
        "id": "qZwSKBhxweYK"
      },
      "outputs": [],
      "source": [
        "sns.catplot(x='sharpness', y='mean_predictions', hue='relevant_property', data=df_pred, kind='bar',\n",
        "            palette='viridis')"
      ]
    },
    {
      "cell_type": "code",
      "execution_count": null,
      "metadata": {
        "id": "IGKFeRPBKD29"
      },
      "outputs": [],
      "source": [
        "plt.scatter(df_pred.mean_predictions,df_pred.prefer_first_1st)\n",
        "plt.show()"
      ]
    },
    {
      "cell_type": "code",
      "execution_count": null,
      "metadata": {
        "id": "MqOjCb2fF-Ki"
      },
      "outputs": [],
      "source": [
        "sns.set(style=\"ticks\")\n",
        "\n",
        "g = sns.FacetGrid(aggregated_df_pred, col=\"sharpness\", hue=\"relevant_property\", height=4)\n",
        "g.map(sns.scatterplot,\"mean_pred\", \"mean_empirical\", alpha=0.7)\n",
        "\n",
        "# Add a 45 degree line to each facet\n",
        "for ax in g.axes.flatten():\n",
        "    ax.plot(ax.get_xlim(), ax.get_ylim(), ls=\"--\", c=\".3\")\n",
        "\n",
        "g.add_legend()\n",
        "\n",
        "plt.show()\n"
      ]
    },
    {
      "cell_type": "code",
      "execution_count": null,
      "metadata": {
        "id": "Qi6aRsV0Pj1j"
      },
      "outputs": [],
      "source": [
        "def plot_parameter(df, type = \"Posterior\"):\n",
        "    # create subplots based on how many parameters (ncols) we have\n",
        "    numbers = len(df.columns)\n",
        "    ncols = 3\n",
        "    nrows = int(np.ceil(numbers/ncols))\n",
        "    fig, axes = plt.subplots(nrows=nrows,ncols=ncols, figsize=(18, 5))\n",
        "    # plot each parameter\n",
        "    for i, col in enumerate(df.columns):\n",
        "        sns.histplot(df[col], kde=True, kde_kws = dict(cut = 3), stat=\"density\", ax=axes[i//ncols, i%ncols])\n",
        "        axes[i//ncols, i%ncols].set_title(f\"{type} of {col}\")\n",
        "    plt.tight_layout()\n",
        "    plt.show()\n",
        "\n",
        "plot_parameter(df_inc)"
      ]
    },
    {
      "cell_type": "code",
      "source": [
        "df_grouped = df_pred.groupby(['id', 'sharpness', 'relevant_property'])['mean_predictions'].mean().reset_index()\n",
        "\n",
        "\n",
        "#aggregated_df_pred_pps = df_pred  >> group_by(\"id\",\"sharpness\", \"relevant_property\") >> summarize(mean_empirical = _.prefer_first_1st.mean(), std_empirical = _.prefer_first_1st.std(), mean_pred = _.mean_predictions.mean(), std_pred = _.mean_predictions.std())\n",
        "#print(aggregated_df_pred_pps)\n"
      ],
      "metadata": {
        "id": "v-SyPKaLRRkw"
      },
      "execution_count": null,
      "outputs": []
    },
    {
      "cell_type": "code",
      "source": [
        "#sns.catplot(x='sharpness', y='prefer_first_1st', hue='relevant_property',\n",
        "#            data=df_pred, kind='bar', palette='viridis', col='id', col_wrap=5)\n",
        "#plt.show()\n"
      ],
      "metadata": {
        "id": "-8vkdov8z3Iq"
      },
      "execution_count": null,
      "outputs": []
    },
    {
      "cell_type": "code",
      "source": [
        "#sns.catplot(x='sharpness', y='mean_predictions', hue='relevant_property',\n",
        "#            data=df_grouped, kind='bar', palette='viridis', col='id', col_wrap=5)\n",
        "#plt.show()\n"
      ],
      "metadata": {
        "id": "ZoR3ekTgzNO5"
      },
      "execution_count": null,
      "outputs": []
    },
    {
      "cell_type": "code",
      "source": [
        "import statsmodels.formula.api as smf\n",
        "\n",
        "md_1 = smf.mixedlm(\"mean_predictions ~ sharpness * relevant_property\", df_grouped, groups=df_grouped[\"id\"])\n",
        "md_2 = smf.mixedlm(\"mean_predictions ~ sharpness + relevant_property\", df_grouped, groups=df_grouped[\"id\"])\n",
        "mdf_1 = md_1.fit()\n",
        "mdf_2 = md_2.fit()\n",
        "\n",
        "print(mdf_1.summary())\n",
        "print(mdf_2.summary())\n",
        "\n",
        "log_likelihood_model1 = mdf_1.llf\n",
        "log_likelihood_model2 = mdf_2.llf\n",
        "\n",
        "import scipy.stats as stats\n",
        "\n",
        "# Assume log_likelihood_model1 and log_likelihood_model2 are the log-likelihoods for your two models\n",
        "# and df_model1 and df_model2 are the degrees of freedom (number of parameters) for the two models\n",
        "\n",
        "test_statistic = 2 * (log_likelihood_model1 - log_likelihood_model2)\n",
        "df = 2\n",
        "\n",
        "p_value = stats.chi2.sf(test_statistic, df) # sf is the survival function, which is 1 - cdf\n",
        "\n",
        "print(\"Test statistic: \", test_statistic)\n",
        "print(\"Degrees of freedom: \", df)\n",
        "print(\"p-value: \", p_value)"
      ],
      "metadata": {
        "id": "Z7H0SquOBB3e"
      },
      "execution_count": null,
      "outputs": []
    },
    {
      "cell_type": "code",
      "source": [
        "#from numpyro.infer.util import log_density\n",
        "#log_density(model_inc_utt_parallel_beta, posterior_inc, states_train, empirical_train)"
      ],
      "metadata": {
        "id": "XOq4twsZKCjt"
      },
      "execution_count": null,
      "outputs": []
    },
    {
      "cell_type": "code",
      "source": [
        "'''\n",
        "from numpyro.infer import log_likelihood\n",
        "log_lk_vals = jnp.array(list(log_likelihood(model_inc_utt_parallel_normal, csv_data, states_train, empirical_train).values()))\n",
        "\n",
        "n = list(csv_data.values())[0].shape[0]\n",
        "lpd = logsumexp(log_lk_vals, 0) - jnp.log(n).sum()\n",
        "print(jnp.shape(lpd))\n",
        "\n",
        "def log_likelihood(rng_key, params, model, *args, **kwargs):\n",
        "    model = handlers.condition(model, params)\n",
        "    model_trace = handlers.trace(model).get_trace(*args, **kwargs)\n",
        "    obs_node = model_trace[\"obs\"]\n",
        "    return obs_node[\"fn\"].log_prob(obs_node[\"value\"])\n",
        "\n",
        "\n",
        "def log_pred_density(rng_key, params, model, *args, **kwargs):\n",
        "    n = list(params.values())[0].shape[0]\n",
        "    log_lk_fn = vmap(\n",
        "        lambda rng_key, params: log_likelihood(rng_key, params, model, *args, **kwargs)\n",
        "    )\n",
        "    log_lk_vals = log_lk_fn(random.split(rng_key, n), params)\n",
        "    return (logsumexp(log_lk_vals, 0) - jnp.log(n)).sum()\n",
        "\n",
        "print(\n",
        "    \"Log posterior predictive density: {}\".format(jnp.mean(lpd)))\n",
        "'''"
      ],
      "metadata": {
        "id": "iddhpJ0MMo9Y"
      },
      "execution_count": null,
      "outputs": []
    }
  ],
  "metadata": {
    "accelerator": "GPU",
    "colab": {
      "provenance": [],
      "machine_shape": "hm",
      "gpuType": "A100",
      "include_colab_link": true
    },
    "kernelspec": {
      "display_name": "Python 3",
      "name": "python3"
    },
    "language_info": {
      "name": "python"
    }
  },
  "nbformat": 4,
  "nbformat_minor": 0
}