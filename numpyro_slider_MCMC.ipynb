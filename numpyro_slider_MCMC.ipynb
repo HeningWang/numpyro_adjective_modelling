{
  "nbformat": 4,
  "nbformat_minor": 0,
  "metadata": {
    "colab": {
      "provenance": [],
      "mount_file_id": "1PboKL_ucpJ9_GrYD9kn1PpZdL6oNCDLV",
      "authorship_tag": "ABX9TyOAGNLTSbFlJaSvTef7cq3M",
      "include_colab_link": true
    },
    "kernelspec": {
      "name": "python3",
      "display_name": "Python 3"
    },
    "language_info": {
      "name": "python"
    }
  },
  "cells": [
    {
      "cell_type": "markdown",
      "metadata": {
        "id": "view-in-github",
        "colab_type": "text"
      },
      "source": [
        "<a href=\"https://colab.research.google.com/github/HeningWang/numpyro_adjective_modelling/blob/main/numpyro_slider_MCMC.ipynb\" target=\"_parent\"><img src=\"https://colab.research.google.com/assets/colab-badge.svg\" alt=\"Open In Colab\"/></a>"
      ]
    },
    {
      "cell_type": "markdown",
      "source": [
        "Import modules and dependencies\n"
      ],
      "metadata": {
        "id": "SerJv4ReACJE"
      }
    },
    {
      "cell_type": "code",
      "execution_count": 1,
      "metadata": {
        "colab": {
          "base_uri": "https://localhost:8080/"
        },
        "id": "er5zrD9J_0zX",
        "outputId": "eabd5182-3f82-4de6-d772-0116ed0d89fa"
      },
      "outputs": [
        {
          "output_type": "stream",
          "name": "stdout",
          "text": [
            "Collecting pyro-ppl\n",
            "  Downloading pyro_ppl-1.8.5-py3-none-any.whl (732 kB)\n",
            "\u001b[?25l     \u001b[90m━━━━━━━━━━━━━━━━━━━━━━━━━━━━━━━━━━━━━━━━\u001b[0m \u001b[32m0.0/732.5 kB\u001b[0m \u001b[31m?\u001b[0m eta \u001b[36m-:--:--\u001b[0m\r\u001b[2K     \u001b[91m━━━━━━━━━━━━━━━━━━━━━━━━━━━━━━━━━\u001b[0m\u001b[91m╸\u001b[0m\u001b[90m━━━━\u001b[0m \u001b[32m655.4/732.5 kB\u001b[0m \u001b[31m19.6 MB/s\u001b[0m eta \u001b[36m0:00:01\u001b[0m\r\u001b[2K     \u001b[90m━━━━━━━━━━━━━━━━━━━━━━━━━━━━━━━━━━━━━━\u001b[0m \u001b[32m732.5/732.5 kB\u001b[0m \u001b[31m14.0 MB/s\u001b[0m eta \u001b[36m0:00:00\u001b[0m\n",
            "\u001b[?25hRequirement already satisfied: numpy>=1.7 in /usr/local/lib/python3.10/dist-packages (from pyro-ppl) (1.22.4)\n",
            "Requirement already satisfied: opt-einsum>=2.3.2 in /usr/local/lib/python3.10/dist-packages (from pyro-ppl) (3.3.0)\n",
            "Collecting pyro-api>=0.1.1 (from pyro-ppl)\n",
            "  Downloading pyro_api-0.1.2-py3-none-any.whl (11 kB)\n",
            "Requirement already satisfied: torch>=2.0.1 in /usr/local/lib/python3.10/dist-packages (from pyro-ppl) (2.0.1+cu118)\n",
            "Requirement already satisfied: tqdm>=4.36 in /usr/local/lib/python3.10/dist-packages (from pyro-ppl) (4.65.0)\n",
            "Requirement already satisfied: filelock in /usr/local/lib/python3.10/dist-packages (from torch>=2.0.1->pyro-ppl) (3.12.2)\n",
            "Requirement already satisfied: typing-extensions in /usr/local/lib/python3.10/dist-packages (from torch>=2.0.1->pyro-ppl) (4.6.3)\n",
            "Requirement already satisfied: sympy in /usr/local/lib/python3.10/dist-packages (from torch>=2.0.1->pyro-ppl) (1.11.1)\n",
            "Requirement already satisfied: networkx in /usr/local/lib/python3.10/dist-packages (from torch>=2.0.1->pyro-ppl) (3.1)\n",
            "Requirement already satisfied: jinja2 in /usr/local/lib/python3.10/dist-packages (from torch>=2.0.1->pyro-ppl) (3.1.2)\n",
            "Requirement already satisfied: triton==2.0.0 in /usr/local/lib/python3.10/dist-packages (from torch>=2.0.1->pyro-ppl) (2.0.0)\n",
            "Requirement already satisfied: cmake in /usr/local/lib/python3.10/dist-packages (from triton==2.0.0->torch>=2.0.1->pyro-ppl) (3.25.2)\n",
            "Requirement already satisfied: lit in /usr/local/lib/python3.10/dist-packages (from triton==2.0.0->torch>=2.0.1->pyro-ppl) (16.0.6)\n",
            "Requirement already satisfied: MarkupSafe>=2.0 in /usr/local/lib/python3.10/dist-packages (from jinja2->torch>=2.0.1->pyro-ppl) (2.1.3)\n",
            "Requirement already satisfied: mpmath>=0.19 in /usr/local/lib/python3.10/dist-packages (from sympy->torch>=2.0.1->pyro-ppl) (1.3.0)\n",
            "Installing collected packages: pyro-api, pyro-ppl\n",
            "Successfully installed pyro-api-0.1.2 pyro-ppl-1.8.5\n",
            "  Preparing metadata (setup.py) ... \u001b[?25l\u001b[?25hdone\n",
            "  Building wheel for numpyro (setup.py) ... \u001b[?25l\u001b[?25hdone\n"
          ]
        }
      ],
      "source": [
        "!pip install pyro-ppl\n",
        "!pip install -q numpyro@git+https://github.com/pyro-ppl/numpyro"
      ]
    },
    {
      "cell_type": "code",
      "source": [
        "! git clone https://github.com/HeningWang/numpyro_adjective_modelling.git"
      ],
      "metadata": {
        "colab": {
          "base_uri": "https://localhost:8080/"
        },
        "id": "WrRWkq5ODRQx",
        "outputId": "fddbe4eb-b251-444b-be0b-9c77bc15702c"
      },
      "execution_count": 2,
      "outputs": [
        {
          "output_type": "stream",
          "name": "stdout",
          "text": [
            "Cloning into 'numpyro_adjective_modelling'...\n",
            "remote: Enumerating objects: 25, done.\u001b[K\n",
            "remote: Counting objects: 100% (25/25), done.\u001b[K\n",
            "remote: Compressing objects: 100% (19/19), done.\u001b[K\n",
            "remote: Total 25 (delta 5), reused 22 (delta 5), pack-reused 0\u001b[K\n",
            "Unpacking objects: 100% (25/25), 768.23 KiB | 2.40 MiB/s, done.\n"
          ]
        }
      ]
    },
    {
      "cell_type": "code",
      "source": [
        "import os\n",
        "\n",
        "from IPython.display import set_matplotlib_formats\n",
        "import jax.numpy as jnp\n",
        "from jax import random, vmap\n",
        "from jax.scipy.special import logsumexp\n",
        "import matplotlib.pyplot as plt\n",
        "import numpy as np\n",
        "import pandas as pd\n",
        "import seaborn as sns\n",
        "import math\n",
        "\n",
        "import numpyro\n",
        "from numpyro.diagnostics import hpdi\n",
        "import numpyro.distributions as dist\n",
        "from numpyro import handlers\n",
        "from numpyro.infer import MCMC, NUTS\n",
        "\n",
        "plt.style.use(\"bmh\")\n",
        "if \"NUMPYRO_SPHINXBUILD\" in os.environ:\n",
        "    set_matplotlib_formats(\"svg\")\n",
        "\n",
        "assert numpyro.__version__.startswith(\"0.12.1\")"
      ],
      "metadata": {
        "id": "gP0GJuTZDUrU"
      },
      "execution_count": 3,
      "outputs": []
    },
    {
      "cell_type": "code",
      "source": [
        "import sys\n",
        "sys.path.append('/content/numpyro_adjective_modelling')"
      ],
      "metadata": {
        "id": "omYXIzcFAoZn"
      },
      "execution_count": 4,
      "outputs": []
    },
    {
      "cell_type": "code",
      "source": [
        "from numpyro_adjective_modelling.core_model import *"
      ],
      "metadata": {
        "id": "oaicRbScCZkG"
      },
      "execution_count": 5,
      "outputs": []
    },
    {
      "cell_type": "markdown",
      "source": [
        "Some helper functions:"
      ],
      "metadata": {
        "id": "4oPM8Sl21PdP"
      }
    },
    {
      "cell_type": "code",
      "source": [
        "# Mutate the dataset to include the states of the objects\n",
        "# ... states are independent variables for models\n",
        "\n",
        "def extract_states(line):\n",
        "    states = []\n",
        "    for i in range(6):\n",
        "      color = 1 if line[10 + i] == \"blue\" else 0\n",
        "      form = 1 if line[16 + i] == \"circle\" else 0\n",
        "      new_obj = (i + 1, line[4 + i], color, form)\n",
        "      states.append(new_obj)\n",
        "    return jnp.array(states)\n",
        "\n",
        "\n",
        "# Transform/rescale slider value from range 0 to 100 to 0 to 1\n",
        "# ... in order to match predicted probability from models\n",
        "\n",
        "def transformation_data(slider_value, link = None):\n",
        "    if link == \"identity\":\n",
        "      if slider_value > 100:\n",
        "        slider_value = 100\n",
        "      elif slider_value < 100:\n",
        "        slider_value = 0\n",
        "      transformed_prob = slider_value / 100\n",
        "    elif link == \"logit\":\n",
        "        transformed_prob = 1 / (1 + math.exp(-slider_value))\n",
        "    return transformed_prob\n",
        "\n",
        "def link_function(x, link = \"identity\", param = None):\n",
        "    if link == \"identity\":\n",
        "        return x\n",
        "    elif link == \"logit\":\n",
        "        return np.log(x/(1-x))\n",
        "    elif link == \"rapidlogit\":\n",
        "        # rescale parameter of steepness to be between 0 and 1, and with 0.1 nearly identity\n",
        "        # param = 50 * param\n",
        "        return 1 / (1 + torch.exp(param * -(x - 0.5)))\n",
        "\n",
        "def compute_alpha_beta_concentration(mu, v):\n",
        "    alpha = mu * v\n",
        "    beta = (1 - mu) * v\n",
        "    return alpha, beta"
      ],
      "metadata": {
        "id": "H1FHnweD1OrB"
      },
      "execution_count": 11,
      "outputs": []
    },
    {
      "cell_type": "code",
      "source": [
        "# Check the result of states\n",
        "df_experiment.loc[0, \"states\"]"
      ],
      "metadata": {
        "colab": {
          "base_uri": "https://localhost:8080/"
        },
        "id": "FCJWfPCrlOzl",
        "outputId": "1687430a-5065-4ab6-d4de-798a919b9346"
      },
      "execution_count": 18,
      "outputs": [
        {
          "output_type": "execute_result",
          "data": {
            "text/plain": [
              "Array([[ 1.,  9.,  1.,  1.],\n",
              "       [ 2.,  9.,  0.,  1.],\n",
              "       [ 3., 10.,  0.,  1.],\n",
              "       [ 4.,  9.,  0.,  0.],\n",
              "       [ 5.,  9.,  0.,  0.],\n",
              "       [ 6.,  3.,  0.,  1.]], dtype=float32)"
            ]
          },
          "metadata": {},
          "execution_count": 18
        }
      ]
    },
    {
      "cell_type": "code",
      "source": [
        "# Import dataset\n",
        "dataset_url = \"/content/numpyro_adjective_modelling/dataset/dataset_slider.csv\"\n",
        "df = pd.read_csv(dataset_url)\n",
        "\n",
        "# subset data to only include combination dimension_color\n",
        "df = df[df['combination'] == 'dimension_color']\n",
        "df.reset_index(inplace=True, drop=True)\n",
        "\n",
        "# Mutate the dataset to include the states of the objects\n",
        "df_experiment = df.copy()\n",
        "df_experiment[\"states\"] = df_experiment.apply(lambda row: extract_states(row), axis=1)\n",
        "df_experiment.prefer_first_1st = df_experiment.prefer_first_1st.apply(lambda x: transformation_data(x, link = \"identity\"))"
      ],
      "metadata": {
        "id": "kJQMF7ayDjy6",
        "colab": {
          "base_uri": "https://localhost:8080/"
        },
        "outputId": "c07dee6a-5849-4cd3-aa18-8d81ae070f8c"
      },
      "execution_count": 12,
      "outputs": [
        {
          "output_type": "stream",
          "name": "stderr",
          "text": [
            "WARNING:jax._src.xla_bridge:No GPU/TPU found, falling back to CPU. (Set TF_CPP_MIN_LOG_LEVEL=0 and rerun for more info.)\n"
          ]
        }
      ]
    },
    {
      "cell_type": "code",
      "source": [
        "# split data into train and test set\n",
        "### change here for whole dataset or subset\n",
        "#train = split_df(df_experiment, split=True, test_size=0.99, random_state=42)\n",
        "train = df_experiment\n",
        "states_train = tuple(train.iloc[:, train.columns.get_loc(\"states\")])\n",
        "empirical_train = torch.tensor(train.iloc[:, train.columns.get_loc(\"prefer_first_1st\")])"
      ],
      "metadata": {
        "id": "65HkFnd6KrTm"
      },
      "execution_count": null,
      "outputs": []
    },
    {
      "cell_type": "code",
      "source": [
        "# define the conditioned model for MCMC\n",
        "def model_inc_utt_serial_beta(states, data):\n",
        "    beta = 1\n",
        "    gamma = pyro.sample(\"gamma\", dist.HalfNormal(5))\n",
        "    color_semvalue = pyro.sample(\"color_semvalue\", dist.Uniform(0, 1))\n",
        "    form_semvalue = color_semvalue\n",
        "    k = pyro.sample(\"k\", dist.Uniform(0, 1))\n",
        "    cost_weight = 0.5\n",
        "    wf = 0.5\n",
        "    #sigma = pyro.sample(\"sigma\", dist.HalfNormal(0.5))\n",
        "    bias = pyro.sample(\"bias\", dist.HalfNormal(5)) + 1\n",
        "    stepness = pyro.sample(\"stepness\", dist.HalfNormal(0.5))\n",
        "    v = pyro.sample(\"v\", dist.Uniform(1e-5,5))\n",
        "    for i in pyro.plate(\"data_loop\", len(data)):\n",
        "        model_prob = get_results(inc_speaker_utt_production(states[i], beta, gamma, color_semvalue, form_semvalue,wf,k,cost_weight, bias))[\"probs\"][0]\n",
        "        slider_predict = link_function(model_prob, link = \"rapidlogit\", param = stepness)\n",
        "        slider_predict = torch.clamp(slider_predict, 1e-5, 1-1e-5)\n",
        "        obs = torch.clamp(data[i], 1e-5, 1-1e-5)\n",
        "        alpha, beta = compute_alpha_beta_concentration(slider_predict, v)\n",
        "        pyro.sample(\"obs_{}\".format(i), dist.Beta(alpha,beta), obs=obs) # use this for inference\n",
        "        #pyro.sample(\"obs_{}\".format(i), dist.Beta(alpha,beta)) # use this for prior predictive\n"
      ],
      "metadata": {
        "id": "_JaQwhEnKdHc"
      },
      "execution_count": null,
      "outputs": []
    },
    {
      "cell_type": "code",
      "source": [
        "import numpyro\n",
        "from numpyro.diagnostics import hpdi\n",
        "import numpyro.distributions as dist\n",
        "from numpyro import handlers\n",
        "from numpyro.infer import MCMC, NUTS"
      ],
      "metadata": {
        "id": "3Ip-BKG5LJIv"
      },
      "execution_count": null,
      "outputs": []
    },
    {
      "cell_type": "code",
      "source": [
        "    # define the MCMC kernel and the number of samples\n",
        "    kernel = NUTS(model_inc_utt_serial_beta, target_accept_prob=0.5)\n",
        "    mcmc_inc = MCMC(kernel, num_warmup=10,num_samples=10)\n",
        "    mcmc_inc.run(states_train, empirical_train)\n",
        "\n",
        "    # print the summary of the posterior distribution\n",
        "    mcmc_inc.summary()\n",
        "    mcmc_inc.diagnostics()\n",
        "\n",
        "    # Get the MCMC samples and convert to a DataFrame\n",
        "    posterior_inc = mcmc_inc.get_samples()\n",
        "    df_inc = pd.DataFrame(posterior_inc)\n",
        "\n",
        "    # Save the DataFrame to a CSV file\n",
        "    df_inc.to_csv('posterior_inc_utt_slider.csv', index=False)"
      ],
      "metadata": {
        "colab": {
          "base_uri": "https://localhost:8080/",
          "height": 407
        },
        "id": "-0J580lAKvIZ",
        "outputId": "60207c5e-ccc6-426c-988b-dfbce97316e2"
      },
      "execution_count": null,
      "outputs": [
        {
          "output_type": "error",
          "ename": "AttributeError",
          "evalue": "ignored",
          "traceback": [
            "\u001b[0;31m---------------------------------------------------------------------------\u001b[0m",
            "\u001b[0;31mAttributeError\u001b[0m                            Traceback (most recent call last)",
            "\u001b[0;32m<ipython-input-53-17ddc3b0862d>\u001b[0m in \u001b[0;36m<cell line: 4>\u001b[0;34m()\u001b[0m\n\u001b[1;32m      2\u001b[0m \u001b[0mkernel\u001b[0m \u001b[0;34m=\u001b[0m \u001b[0mNUTS\u001b[0m\u001b[0;34m(\u001b[0m\u001b[0mmodel_inc_utt_serial_beta\u001b[0m\u001b[0;34m,\u001b[0m \u001b[0mtarget_accept_prob\u001b[0m\u001b[0;34m=\u001b[0m\u001b[0;36m0.5\u001b[0m\u001b[0;34m)\u001b[0m\u001b[0;34m\u001b[0m\u001b[0;34m\u001b[0m\u001b[0m\n\u001b[1;32m      3\u001b[0m \u001b[0mmcmc_inc\u001b[0m \u001b[0;34m=\u001b[0m \u001b[0mMCMC\u001b[0m\u001b[0;34m(\u001b[0m\u001b[0mkernel\u001b[0m\u001b[0;34m,\u001b[0m \u001b[0mnum_warmup\u001b[0m\u001b[0;34m=\u001b[0m\u001b[0;36m10\u001b[0m\u001b[0;34m,\u001b[0m\u001b[0mnum_samples\u001b[0m\u001b[0;34m=\u001b[0m\u001b[0;36m10\u001b[0m\u001b[0;34m)\u001b[0m\u001b[0;34m\u001b[0m\u001b[0;34m\u001b[0m\u001b[0m\n\u001b[0;32m----> 4\u001b[0;31m \u001b[0mmcmc_inc\u001b[0m\u001b[0;34m.\u001b[0m\u001b[0mrun\u001b[0m\u001b[0;34m(\u001b[0m\u001b[0mstates_train\u001b[0m\u001b[0;34m,\u001b[0m \u001b[0mempirical_train\u001b[0m\u001b[0;34m)\u001b[0m\u001b[0;34m\u001b[0m\u001b[0;34m\u001b[0m\u001b[0m\n\u001b[0m\u001b[1;32m      5\u001b[0m \u001b[0;34m\u001b[0m\u001b[0m\n\u001b[1;32m      6\u001b[0m \u001b[0;31m# print the summary of the posterior distribution\u001b[0m\u001b[0;34m\u001b[0m\u001b[0;34m\u001b[0m\u001b[0m\n",
            "\u001b[0;32m/usr/local/lib/python3.10/dist-packages/numpyro/infer/mcmc.py\u001b[0m in \u001b[0;36mrun\u001b[0;34m(self, rng_key, extra_fields, init_params, *args, **kwargs)\u001b[0m\n\u001b[1;32m    626\u001b[0m         \u001b[0mmap_args\u001b[0m \u001b[0;34m=\u001b[0m \u001b[0;34m(\u001b[0m\u001b[0mrng_key\u001b[0m\u001b[0;34m,\u001b[0m \u001b[0minit_state\u001b[0m\u001b[0;34m,\u001b[0m \u001b[0minit_params\u001b[0m\u001b[0;34m)\u001b[0m\u001b[0;34m\u001b[0m\u001b[0;34m\u001b[0m\u001b[0m\n\u001b[1;32m    627\u001b[0m         \u001b[0;32mif\u001b[0m \u001b[0mself\u001b[0m\u001b[0;34m.\u001b[0m\u001b[0mnum_chains\u001b[0m \u001b[0;34m==\u001b[0m \u001b[0;36m1\u001b[0m\u001b[0;34m:\u001b[0m\u001b[0;34m\u001b[0m\u001b[0;34m\u001b[0m\u001b[0m\n\u001b[0;32m--> 628\u001b[0;31m             \u001b[0mstates_flat\u001b[0m\u001b[0;34m,\u001b[0m \u001b[0mlast_state\u001b[0m \u001b[0;34m=\u001b[0m \u001b[0mpartial_map_fn\u001b[0m\u001b[0;34m(\u001b[0m\u001b[0mmap_args\u001b[0m\u001b[0;34m)\u001b[0m\u001b[0;34m\u001b[0m\u001b[0;34m\u001b[0m\u001b[0m\n\u001b[0m\u001b[1;32m    629\u001b[0m             \u001b[0mstates\u001b[0m \u001b[0;34m=\u001b[0m \u001b[0mtree_map\u001b[0m\u001b[0;34m(\u001b[0m\u001b[0;32mlambda\u001b[0m \u001b[0mx\u001b[0m\u001b[0;34m:\u001b[0m \u001b[0mx\u001b[0m\u001b[0;34m[\u001b[0m\u001b[0mjnp\u001b[0m\u001b[0;34m.\u001b[0m\u001b[0mnewaxis\u001b[0m\u001b[0;34m,\u001b[0m \u001b[0;34m...\u001b[0m\u001b[0;34m]\u001b[0m\u001b[0;34m,\u001b[0m \u001b[0mstates_flat\u001b[0m\u001b[0;34m)\u001b[0m\u001b[0;34m\u001b[0m\u001b[0;34m\u001b[0m\u001b[0m\n\u001b[1;32m    630\u001b[0m         \u001b[0;32melse\u001b[0m\u001b[0;34m:\u001b[0m\u001b[0;34m\u001b[0m\u001b[0;34m\u001b[0m\u001b[0m\n",
            "\u001b[0;32m/usr/local/lib/python3.10/dist-packages/numpyro/infer/mcmc.py\u001b[0m in \u001b[0;36m_single_chain_mcmc\u001b[0;34m(self, init, args, kwargs, collect_fields)\u001b[0m\n\u001b[1;32m    408\u001b[0m         \u001b[0;31m# Check if _sample_fn is None, then we need to initialize the sampler.\u001b[0m\u001b[0;34m\u001b[0m\u001b[0;34m\u001b[0m\u001b[0m\n\u001b[1;32m    409\u001b[0m         \u001b[0;32mif\u001b[0m \u001b[0minit_state\u001b[0m \u001b[0;32mis\u001b[0m \u001b[0;32mNone\u001b[0m \u001b[0;32mor\u001b[0m \u001b[0;34m(\u001b[0m\u001b[0mgetattr\u001b[0m\u001b[0;34m(\u001b[0m\u001b[0mself\u001b[0m\u001b[0;34m.\u001b[0m\u001b[0msampler\u001b[0m\u001b[0;34m,\u001b[0m \u001b[0;34m\"_sample_fn\"\u001b[0m\u001b[0;34m,\u001b[0m \u001b[0;32mNone\u001b[0m\u001b[0;34m)\u001b[0m \u001b[0;32mis\u001b[0m \u001b[0;32mNone\u001b[0m\u001b[0;34m)\u001b[0m\u001b[0;34m:\u001b[0m\u001b[0;34m\u001b[0m\u001b[0;34m\u001b[0m\u001b[0m\n\u001b[0;32m--> 410\u001b[0;31m             new_init_state = self.sampler.init(\n\u001b[0m\u001b[1;32m    411\u001b[0m                 \u001b[0mrng_key\u001b[0m\u001b[0;34m,\u001b[0m\u001b[0;34m\u001b[0m\u001b[0;34m\u001b[0m\u001b[0m\n\u001b[1;32m    412\u001b[0m                 \u001b[0mself\u001b[0m\u001b[0;34m.\u001b[0m\u001b[0mnum_warmup\u001b[0m\u001b[0;34m,\u001b[0m\u001b[0;34m\u001b[0m\u001b[0;34m\u001b[0m\u001b[0m\n",
            "\u001b[0;32m/usr/local/lib/python3.10/dist-packages/numpyro/infer/hmc.py\u001b[0m in \u001b[0;36minit\u001b[0;34m(self, rng_key, num_warmup, init_params, model_args, model_kwargs)\u001b[0m\n\u001b[1;32m    704\u001b[0m     ):\n\u001b[1;32m    705\u001b[0m         \u001b[0;31m# non-vectorized\u001b[0m\u001b[0;34m\u001b[0m\u001b[0;34m\u001b[0m\u001b[0m\n\u001b[0;32m--> 706\u001b[0;31m         \u001b[0;32mif\u001b[0m \u001b[0mrng_key\u001b[0m\u001b[0;34m.\u001b[0m\u001b[0mndim\u001b[0m \u001b[0;34m==\u001b[0m \u001b[0;36m1\u001b[0m\u001b[0;34m:\u001b[0m\u001b[0;34m\u001b[0m\u001b[0;34m\u001b[0m\u001b[0m\n\u001b[0m\u001b[1;32m    707\u001b[0m             \u001b[0mrng_key\u001b[0m\u001b[0;34m,\u001b[0m \u001b[0mrng_key_init_model\u001b[0m \u001b[0;34m=\u001b[0m \u001b[0mrandom\u001b[0m\u001b[0;34m.\u001b[0m\u001b[0msplit\u001b[0m\u001b[0;34m(\u001b[0m\u001b[0mrng_key\u001b[0m\u001b[0;34m)\u001b[0m\u001b[0;34m\u001b[0m\u001b[0;34m\u001b[0m\u001b[0m\n\u001b[1;32m    708\u001b[0m         \u001b[0;31m# vectorized\u001b[0m\u001b[0;34m\u001b[0m\u001b[0;34m\u001b[0m\u001b[0m\n",
            "\u001b[0;31mAttributeError\u001b[0m: 'tuple' object has no attribute 'ndim'"
          ]
        }
      ]
    }
  ]
}